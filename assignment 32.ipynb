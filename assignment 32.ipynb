{
 "cells": [
  {
   "cell_type": "code",
   "execution_count": 1,
   "id": "812458a2-9ddd-4f2e-ae13-884884b41cd8",
   "metadata": {},
   "outputs": [
    {
     "name": "stdout",
     "output_type": "stream",
     "text": [
      "Recommended items for User_1: ['Movie_17', 'Movie_16', 'Movie_4', 'Movie_10', 'Movie_8']\n"
     ]
    }
   ],
   "source": [
    "import pandas as pd\n",
    "import numpy as np\n",
    "import matplotlib.pyplot as plt\n",
    "import seaborn as sns\n",
    "from sklearn.metrics.pairwise import cosine_similarity\n",
    "\n",
    "# Load dataset\n",
    "df_rec = pd.read_csv(\"Day_32 Recommendation_System_Data.csv\")\n",
    "\n",
    "# Create user-item interaction matrix\n",
    "user_item_matrix = df_rec.pivot_table(index='User', columns='Item', values='Rating', fill_value=0)\n",
    "\n",
    "# Compute cosine similarity between users\n",
    "user_similarity = cosine_similarity(user_item_matrix)\n",
    "user_similarity_df = pd.DataFrame(user_similarity, index=user_item_matrix.index, columns=user_item_matrix.index)\n",
    "\n",
    "# Function to recommend items for a given user\n",
    "def get_recommendations(user, num_recommendations=5):\n",
    "    similar_users = user_similarity_df[user].sort_values(ascending=False).iloc[1:6]\n",
    "    recommended_items = {}\n",
    "    \n",
    "    for similar_user in similar_users.index:\n",
    "        similar_user_ratings = df_rec[df_rec['User'] == similar_user]\n",
    "        for _, row in similar_user_ratings.iterrows():\n",
    "            if row['Item'] not in user_item_matrix.loc[user] or user_item_matrix.loc[user, row['Item']] == 0:\n",
    "                recommended_items[row['Item']] = recommended_items.get(row['Item'], 0) + row['Rating']\n",
    "    \n",
    "    recommended_items = sorted(recommended_items.items(), key=lambda x: x[1], reverse=True)\n",
    "    return [item[0] for item in recommended_items[:num_recommendations]]\n",
    "\n",
    "# Example: Get recommendations for a user\n",
    "user_example = 'User_1'\n",
    "recommendations = get_recommendations(user_example)\n",
    "print(f\"Recommended items for {user_example}: {recommendations}\")\n"
   ]
  },
  {
   "cell_type": "code",
   "execution_count": null,
   "id": "27467ba1-3c02-482d-92db-f6580334759d",
   "metadata": {},
   "outputs": [],
   "source": []
  }
 ],
 "metadata": {
  "kernelspec": {
   "display_name": "Python [conda env:base] *",
   "language": "python",
   "name": "conda-base-py"
  },
  "language_info": {
   "codemirror_mode": {
    "name": "ipython",
    "version": 3
   },
   "file_extension": ".py",
   "mimetype": "text/x-python",
   "name": "python",
   "nbconvert_exporter": "python",
   "pygments_lexer": "ipython3",
   "version": "3.12.7"
  }
 },
 "nbformat": 4,
 "nbformat_minor": 5
}
