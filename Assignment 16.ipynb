{
 "cells": [
  {
   "cell_type": "code",
   "execution_count": null,
   "id": "0a7137d9-5d10-4713-8ce0-c0e429af7681",
   "metadata": {},
   "outputs": [],
   "source": []
  }
 ],
 "metadata": {
  "kernelspec": {
   "display_name": "",
   "name": ""
  },
  "language_info": {
   "name": ""
  }
 },
 "nbformat": 4,
 "nbformat_minor": 5
}
