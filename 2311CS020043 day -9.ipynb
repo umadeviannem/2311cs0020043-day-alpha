{
 "cells": [
  {
   "cell_type": "code",
   "execution_count": 4,
   "id": "e46c0b10-3d7e-46a0-a4e8-965e78f69ce7",
   "metadata": {},
   "outputs": [
    {
     "name": "stdout",
     "output_type": "stream",
     "text": [
      "First 5 rows of the dataset:\n",
      "         Date       Account_Type    Branch Transaction_Type  \\\n",
      "0  2023-01-19      Fixed Deposit   Central     Loan Payment   \n",
      "1  2023-01-16            Current    Uptown       Withdrawal   \n",
      "2  2023-01-10            Current    Uptown     Loan Payment   \n",
      "3  2023-01-18            Savings    Uptown     Loan Payment   \n",
      "4  2023-01-14  Recurring Deposit  Suburban     Loan Payment   \n",
      "\n",
      "   Transaction_Amount  Account_Balance  \n",
      "0              985.51          6839.59  \n",
      "1              641.43          8908.39  \n",
      "2             3363.85         12428.67  \n",
      "3             1914.60          5776.63  \n",
      "4             2788.57          4779.04  \n",
      "\n",
      "Basic statistics of numerical columns:\n",
      "       Transaction_Amount  Account_Balance\n",
      "count           20.000000        20.000000\n",
      "mean          2705.829500      7967.766500\n",
      "std           1429.829787      2770.248821\n",
      "min            641.430000      2592.160000\n",
      "25%           1482.085000      6460.127500\n",
      "50%           2567.645000      7905.275000\n",
      "75%           4121.525000      9127.702500\n",
      "max           4683.640000     12836.510000\n",
      "\n",
      "Missing values in each column:\n",
      "Date                  0\n",
      "Account_Type          0\n",
      "Branch                0\n",
      "Transaction_Type      0\n",
      "Transaction_Amount    0\n",
      "Account_Balance       0\n",
      "dtype: int64\n"
     ]
    }
   ],
   "source": [
    "import pandas as pd\n",
    "\n",
    "# Corrected file path\n",
    "banking_data = pd.read_csv(r\"C:\\Users\\pacha\\Day_9_banking_data.csv\")\n",
    "\n",
    "# Display the first 5 rows of the dataset\n",
    "print(\"First 5 rows of the dataset:\")\n",
    "print(banking_data.head())\n",
    "\n",
    "# Generate basic statistics of the numerical columns\n",
    "print(\"\\nBasic statistics of numerical columns:\")\n",
    "print(banking_data.describe())\n",
    "\n",
    "# Check for missing values in the dataset\n",
    "print(\"\\nMissing values in each column:\")\n",
    "print(banking_data.isnull().sum())"
   ]
  },
  {
   "cell_type": "code",
   "execution_count": 5,
   "id": "e4e52b50-3303-45d9-9ed5-78ccc4aba822",
   "metadata": {},
   "outputs": [
    {
     "name": "stdout",
     "output_type": "stream",
     "text": [
      "Grouped by Account Type:\n",
      "                   Total_Transaction_Amount  Average_Account_Balance\n",
      "Account_Type                                                        \n",
      "Current                            15052.57              9893.404000\n",
      "Fixed Deposit                      14102.59              6120.380000\n",
      "Recurring Deposit                  15179.99              7627.283333\n",
      "Savings                             9781.44              9134.110000\n",
      "\n",
      "Grouped by Branch:\n",
      "          Total_Transactions  Average_Transaction_Amount\n",
      "Branch                                                  \n",
      "Central                    8                 2942.338750\n",
      "Downtown                   3                 3188.703333\n",
      "Suburban                   5                 2773.278000\n",
      "Uptown                     4                 1786.345000\n"
     ]
    }
   ],
   "source": [
    "import pandas as pd\n",
    "\n",
    "\n",
    "banking_data = pd.read_csv(r\"C:\\Users\\pacha\\Day_9_banking_data.csv\")\n",
    "\n",
    "\n",
    "# Grouping by 'Account_Type' and calculating total sum and average balance\n",
    "account_type_group = banking_data.groupby('Account_Type').agg(\n",
    "    Total_Transaction_Amount=('Transaction_Amount', 'sum'),\n",
    "    Average_Account_Balance=('Account_Balance', 'mean')\n",
    ")\n",
    "\n",
    "# Grouping by 'Branch' and calculating total transactions and average transaction amount\n",
    "branch_group = banking_data.groupby('Branch').agg(\n",
    "    Total_Transactions=('Transaction_Amount', 'count'),\n",
    "    Average_Transaction_Amount=('Transaction_Amount', 'mean')\n",
    ")\n",
    "\n",
    "# Display the results\n",
    "print(\"Grouped by Account Type:\")\n",
    "print(account_type_group)\n",
    "\n",
    "print(\"\\nGrouped by Branch:\")\n",
    "print(branch_group)"
   ]
  },
  {
   "cell_type": "code",
   "execution_count": null,
   "id": "2d3e95a5-e61b-4388-86d0-5d5e25a01943",
   "metadata": {},
   "outputs": [],
   "source": []
  }
 ],
 "metadata": {
  "kernelspec": {
   "display_name": "Python 3 (ipykernel)",
   "language": "python",
   "name": "python3"
  },
  "language_info": {
   "codemirror_mode": {
    "name": "ipython",
    "version": 3
   },
   "file_extension": ".py",
   "mimetype": "text/x-python",
   "name": "python",
   "nbconvert_exporter": "python",
   "pygments_lexer": "ipython3",
   "version": "3.12.7"
  }
 },
 "nbformat": 4,
 "nbformat_minor": 5
}
