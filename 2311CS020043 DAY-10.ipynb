{
 "cells": [
  {
   "cell_type": "code",
   "execution_count": 7,
   "id": "90ca43f7-5396-43cf-9d23-bf57b6cfba8c",
   "metadata": {},
   "outputs": [
    {
     "name": "stdout",
     "output_type": "stream",
     "text": [
      "High Amount Transactions:\n",
      "         Date       Account_Type    Branch Transaction_Type  \\\n",
      "2  2023-01-10            Current    Uptown     Loan Payment   \n",
      "4  2023-01-14  Recurring Deposit  Suburban     Loan Payment   \n",
      "5  2023-01-06            Current  Suburban   Service Charge   \n",
      "7  2023-01-09            Current   Central     Loan Payment   \n",
      "8  2023-01-20  Recurring Deposit  Downtown   Service Charge   \n",
      "\n",
      "   Transaction_Amount  Account_Balance  \n",
      "2             3363.85         12428.67  \n",
      "4             2788.57          4779.04  \n",
      "5             4584.05          7635.47  \n",
      "7             2346.72         10708.85  \n",
      "8             3899.98         12646.56  \n",
      "\n",
      "Loan Payment with High Balance:\n",
      "          Date       Account_Type   Branch Transaction_Type  \\\n",
      "0   2023-01-19      Fixed Deposit  Central     Loan Payment   \n",
      "2   2023-01-10            Current   Uptown     Loan Payment   \n",
      "3   2023-01-18            Savings   Uptown     Loan Payment   \n",
      "7   2023-01-09            Current  Central     Loan Payment   \n",
      "13  2023-01-05  Recurring Deposit  Central     Loan Payment   \n",
      "\n",
      "    Transaction_Amount  Account_Balance  \n",
      "0               985.51          6839.59  \n",
      "2              3363.85         12428.67  \n",
      "3              1914.60          5776.63  \n",
      "7              2346.72         10708.85  \n",
      "13             4683.64          6762.43  \n",
      "\n",
      "Uptown Transactions:\n",
      "          Date   Account_Type  Branch Transaction_Type  Transaction_Amount  \\\n",
      "1   2023-01-16        Current  Uptown       Withdrawal              641.43   \n",
      "2   2023-01-10        Current  Uptown     Loan Payment             3363.85   \n",
      "3   2023-01-18        Savings  Uptown     Loan Payment             1914.60   \n",
      "12  2023-01-15  Fixed Deposit  Uptown   Service Charge             1225.50   \n",
      "\n",
      "    Account_Balance  \n",
      "1           8908.39  \n",
      "2          12428.67  \n",
      "3           5776.63  \n",
      "12          4224.47  \n"
     ]
    }
   ],
   "source": [
    "import pandas as pd\n",
    "\n",
    "# Load the dataset\n",
    "file_path = 'C:\\\\Users\\\\ponnu\\\\Day_10_banking_data.csv'  # Use your file path\n",
    "df = pd.read_csv(file_path)\n",
    "\n",
    "# Task 1: Filter rows where Transaction_Amount > 2000\n",
    "high_amount_transactions = df[df['Transaction_Amount'] > 2000]\n",
    "\n",
    "# Task 2: Filter rows where Transaction_Type is \"Loan Payment\" and Account_Balance > 5000\n",
    "loan_payment_high_balance = df[(df['Transaction_Type'] == \"Loan Payment\") & \n",
    "                               (df['Account_Balance'] > 5000)]\n",
    "\n",
    "# Task 3: Filter rows where transactions were made in the Uptown branch\n",
    "uptown_transactions = df[df['Branch'] == \"Uptown\"]\n",
    "\n",
    "# Display results\n",
    "print(\"High Amount Transactions:\")\n",
    "print(high_amount_transactions.head())\n",
    "\n",
    "print(\"\\nLoan Payment with High Balance:\")\n",
    "print(loan_payment_high_balance.head())\n",
    "\n",
    "print(\"\\nUptown Transactions:\")\n",
    "print(uptown_transactions.head())\n",
    "\n",
    "\n",
    "\n"
   ]
  },
  {
   "cell_type": "code",
   "execution_count": 9,
   "id": "4688c5f6-c875-48ab-9886-bacfdde3dec4",
   "metadata": {},
   "outputs": [
    {
     "name": "stdout",
     "output_type": "stream",
     "text": [
      "Data Transformation Completed Successfully!\n",
      "         Date       Account_Type    Branch Transaction_Type  \\\n",
      "0  2023-01-19      Fixed Deposit   Central     Loan Payment   \n",
      "1  2023-01-16            Current    Uptown       Withdrawal   \n",
      "2  2023-01-10            Current    Uptown     Loan Payment   \n",
      "3  2023-01-18            Savings    Uptown     Loan Payment   \n",
      "4  2023-01-14  Recurring Deposit  Suburban     Loan Payment   \n",
      "\n",
      "   Transaction_Amount  Account_Balance  Transaction_Fee Balance_Status  \n",
      "0              985.51          6839.59          19.7102   High Balance  \n",
      "1              641.43          8908.39          12.8286   High Balance  \n",
      "2             3363.85         12428.67          67.2770   High Balance  \n",
      "3             1914.60          5776.63          38.2920   High Balance  \n",
      "4             2788.57          4779.04          55.7714    Low Balance  \n"
     ]
    }
   ],
   "source": [
    "import pandas as pd\n",
    "\n",
    "# Load the dataset\n",
    "file_path = 'C:\\\\Users\\\\ponnu\\\\Day_10_banking_data.csv'  # Replace with your file path\n",
    "df = pd.read_csv(file_path)\n",
    "\n",
    "# Task 1: Add a new column called Transaction_Fee (2% of Transaction_Amount)\n",
    "df['Transaction_Fee'] = df['Transaction_Amount'] * 0.02\n",
    "\n",
    "# Task 2: Create a new column Balance_Status based on Account_Balance\n",
    "df['Balance_Status'] = df['Account_Balance'].apply(lambda x: 'High Balance' if x > 5000 else 'Low Balance')\n",
    "\n",
    "# Save the transformed dataset to a new CSV file\n",
    "df.to_csv('C:\\\\Users\\\\ponnu\\\\transformed_data.csv', index=False)\n",
    "\n",
    "# Display the first few rows to verify the transformations\n",
    "print(\"Data Transformation Completed Successfully!\")\n",
    "print(df.head())\n"
   ]
  },
  {
   "cell_type": "code",
   "execution_count": null,
   "id": "7e3695d5-6052-497f-85a6-c57faeff0ba6",
   "metadata": {},
   "outputs": [],
   "source": []
  }
 ],
 "metadata": {
  "kernelspec": {
   "display_name": "Python 3 (ipykernel)",
   "language": "python",
   "name": "python3"
  },
  "language_info": {
   "codemirror_mode": {
    "name": "ipython",
    "version": 3
   },
   "file_extension": ".py",
   "mimetype": "text/x-python",
   "name": "python",
   "nbconvert_exporter": "python",
   "pygments_lexer": "ipython3",
   "version": "3.12.4"
  }
 },
 "nbformat": 4,
 "nbformat_minor": 5
}
