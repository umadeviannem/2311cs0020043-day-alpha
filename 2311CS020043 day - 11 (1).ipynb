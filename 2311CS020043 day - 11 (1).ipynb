{
 "cells": [
  {
   "cell_type": "code",
   "execution_count": 3,
   "id": "73c3a6b3-9f1e-41bc-af2c-e5449a1eedba",
   "metadata": {},
   "outputs": [
    {
     "name": "stdout",
     "output_type": "stream",
     "text": [
      "Top 10 Rows Sorted by Account_Balance:\n",
      "          Date       Account_Type    Branch Transaction_Type  \\\n",
      "15  2023-01-03            Savings  Suburban   Service Charge   \n",
      "8   2023-01-20  Recurring Deposit  Downtown   Service Charge   \n",
      "2   2023-01-10            Current    Uptown     Loan Payment   \n",
      "7   2023-01-09            Current   Central     Loan Payment   \n",
      "17  2023-01-07            Current   Central     Loan Payment   \n",
      "1   2023-01-16            Current    Uptown       Withdrawal   \n",
      "19  2023-01-17            Savings   Central          Deposit   \n",
      "18  2023-01-12  Recurring Deposit  Suburban   Service Charge   \n",
      "16  2023-01-02      Fixed Deposit   Central          Deposit   \n",
      "14  2023-01-01      Fixed Deposit  Downtown       Withdrawal   \n",
      "\n",
      "    Transaction_Amount  Account_Balance  \n",
      "15             3350.32         12836.51  \n",
      "8              3899.98         12646.56  \n",
      "2              3363.85         12428.67  \n",
      "7              2346.72         10708.85  \n",
      "17             4116.52          9785.64  \n",
      "1               641.43          8908.39  \n",
      "19             4516.52          8789.19  \n",
      "18             1339.57          8666.74  \n",
      "16             4421.57          8330.40  \n",
      "14             4136.54          8175.08  \n",
      "\n",
      "Dataset with Transaction_Rank Column:\n",
      "         Date       Account_Type    Branch Transaction_Type  \\\n",
      "0  2023-01-19      Fixed Deposit   Central     Loan Payment   \n",
      "1  2023-01-16            Current    Uptown       Withdrawal   \n",
      "2  2023-01-10            Current    Uptown     Loan Payment   \n",
      "3  2023-01-18            Savings    Uptown     Loan Payment   \n",
      "4  2023-01-14  Recurring Deposit  Suburban     Loan Payment   \n",
      "\n",
      "   Transaction_Amount  Account_Balance  Transaction_Rank  \n",
      "0              985.51          6839.59               7.0  \n",
      "1              641.43          8908.39               4.0  \n",
      "2             3363.85         12428.67               1.0  \n",
      "3             1914.60          5776.63               2.0  \n",
      "4             2788.57          4779.04               3.0  \n"
     ]
    }
   ],
   "source": [
    "import pandas as pd\n",
    "\n",
    "# Load the dataset from the specified file path\n",
    "file_path = 'C:\\\\Users\\\\pacha\\\\Day_11_banking_data.csv'\n",
    "data = pd.read_csv(file_path)\n",
    "\n",
    "# Step 1: Sort the dataset by Account_Balance in descending order\n",
    "sorted_data = data.sort_values(by='Account_Balance', ascending=False)\n",
    "\n",
    "# Step 2: Display the first 10 rows of the sorted data\n",
    "top_10_rows = sorted_data.head(10)\n",
    "\n",
    "# Step 3: Create a ranking column for Transaction_Amount within each Branch\n",
    "data['Transaction_Rank'] = data.groupby('Branch')['Transaction_Amount'].rank(ascending=False, method='dense')\n",
    "\n",
    "# Display results\n",
    "print(\"Top 10 Rows Sorted by Account_Balance:\")\n",
    "print(top_10_rows)\n",
    "\n",
    "print(\"\\nDataset with Transaction_Rank Column:\")\n",
    "print(data.head())\n"
   ]
  },
  {
   "cell_type": "code",
   "execution_count": null,
   "id": "28bb0fc6-1d20-4da2-89b2-ccb16b5f907c",
   "metadata": {},
   "outputs": [],
   "source": []
  }
 ],
 "metadata": {
  "kernelspec": {
   "display_name": "Python 3 (ipykernel)",
   "language": "python",
   "name": "python3"
  },
  "language_info": {
   "codemirror_mode": {
    "name": "ipython",
    "version": 3
   },
   "file_extension": ".py",
   "mimetype": "text/x-python",
   "name": "python",
   "nbconvert_exporter": "python",
   "pygments_lexer": "ipython3",
   "version": "3.12.7"
  }
 },
 "nbformat": 4,
 "nbformat_minor": 5
}
